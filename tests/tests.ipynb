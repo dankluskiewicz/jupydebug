{
 "cells": [
  {
   "cell_type": "code",
   "execution_count": 1,
   "metadata": {},
   "outputs": [],
   "source": [
    "import context\n",
    "import jupydebug as jpdb\n",
    "import fixtures"
   ]
  },
  {
   "cell_type": "code",
   "execution_count": 2,
   "metadata": {},
   "outputs": [
    {
     "name": "stdout",
     "output_type": "stream",
     "text": [
      "range object index out of range\n"
     ]
    },
    {
     "name": "stderr",
     "output_type": "stream",
     "text": [
      "/home/dan/Documents/jupydebug/jupydebug/__init__.py:28: UserWarning: \n",
      "-*-*-*-*-*-*-*-*-*-*-*-*-*-*-*\n",
      "debugger caught exception @ failing_test\n",
      "-*-*-*-*-*-*-*-*-*-*-*-*-*-*-*\n",
      "\n",
      "  + '\\n' + '-*' * 15 + '\\n'\n"
     ]
    }
   ],
   "source": [
    "debugger = jpdb.Debugger(fixtures.failing_test)\n",
    "try:\n",
    "    debugger()\n",
    "except Exception as e:\n",
    "    print(e)"
   ]
  },
  {
   "cell_type": "code",
   "execution_count": 3,
   "metadata": {},
   "outputs": [],
   "source": [
    "assert 'a_global_var' in debugger.globals.keys()"
   ]
  },
  {
   "cell_type": "code",
   "execution_count": null,
   "metadata": {},
   "outputs": [],
   "source": []
  }
 ],
 "metadata": {
  "kernelspec": {
   "display_name": "Python [conda env:jupydebug]",
   "language": "python",
   "name": "conda-env-jupydebug-py"
  },
  "language_info": {
   "codemirror_mode": {
    "name": "ipython",
    "version": 3
   },
   "file_extension": ".py",
   "mimetype": "text/x-python",
   "name": "python",
   "nbconvert_exporter": "python",
   "pygments_lexer": "ipython3",
   "version": "3.7.9"
  }
 },
 "nbformat": 4,
 "nbformat_minor": 4
}
