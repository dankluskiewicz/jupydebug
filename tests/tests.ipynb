{
 "cells": [
  {
   "cell_type": "code",
   "execution_count": 1,
   "metadata": {},
   "outputs": [],
   "source": [
    "import context\n",
    "import jupydebug as jpdb\n",
    "import conftest"
   ]
  },
  {
   "cell_type": "markdown",
   "metadata": {},
   "source": [
    "## test post_mortem()"
   ]
  },
  {
   "cell_type": "code",
   "execution_count": 2,
   "metadata": {},
   "outputs": [],
   "source": [
    "# raise an exception\n",
    "try:\n",
    "    conftest.nested_test()\n",
    "except IndexError as ie:\n",
    "    contexts = jpdb.post_mortem(ie.__traceback__)"
   ]
  },
  {
   "cell_type": "code",
   "execution_count": 3,
   "metadata": {},
   "outputs": [
    {
     "data": {
      "text/html": [
       "<div>\n",
       "<style scoped>\n",
       "    .dataframe tbody tr th:only-of-type {\n",
       "        vertical-align: middle;\n",
       "    }\n",
       "\n",
       "    .dataframe tbody tr th {\n",
       "        vertical-align: top;\n",
       "    }\n",
       "\n",
       "    .dataframe thead th {\n",
       "        text-align: right;\n",
       "    }\n",
       "</style>\n",
       "<table border=\"1\" class=\"dataframe\">\n",
       "  <thead>\n",
       "    <tr style=\"text-align: right;\">\n",
       "      <th></th>\n",
       "      <th>file</th>\n",
       "      <th>line</th>\n",
       "      <th>calling</th>\n",
       "      <th>locals</th>\n",
       "    </tr>\n",
       "  </thead>\n",
       "  <tbody>\n",
       "    <tr>\n",
       "      <th>0</th>\n",
       "      <td>/home/dan/Documents/jupydebug/tests/conftest.py</td>\n",
       "      <td>12</td>\n",
       "      <td>failing_test</td>\n",
       "      <td>(a_local_var, x)</td>\n",
       "    </tr>\n",
       "    <tr>\n",
       "      <th>1</th>\n",
       "      <td>/home/dan/Documents/jupydebug/tests/conftest.py</td>\n",
       "      <td>25</td>\n",
       "      <td>parent_test</td>\n",
       "      <td>(func, args, kwargs, pf_local_var)</td>\n",
       "    </tr>\n",
       "    <tr>\n",
       "      <th>2</th>\n",
       "      <td>/home/dan/Documents/jupydebug/tests/conftest.py</td>\n",
       "      <td>30</td>\n",
       "      <td>nested_test</td>\n",
       "      <td>(nf_local_var)</td>\n",
       "    </tr>\n",
       "    <tr>\n",
       "      <th>3</th>\n",
       "      <td>&lt;ipython-input-2-29a06306f5af&gt;</td>\n",
       "      <td>5</td>\n",
       "      <td>&lt;module&gt;</td>\n",
       "      <td>(__name__, __doc__, __package__, __loader__, _...</td>\n",
       "    </tr>\n",
       "  </tbody>\n",
       "</table>\n",
       "</div>"
      ],
      "text/plain": [
       "                                              file  line       calling  \\\n",
       "0  /home/dan/Documents/jupydebug/tests/conftest.py    12  failing_test   \n",
       "1  /home/dan/Documents/jupydebug/tests/conftest.py    25   parent_test   \n",
       "2  /home/dan/Documents/jupydebug/tests/conftest.py    30   nested_test   \n",
       "3                   <ipython-input-2-29a06306f5af>     5      <module>   \n",
       "\n",
       "                                              locals  \n",
       "0                                   (a_local_var, x)  \n",
       "1                 (func, args, kwargs, pf_local_var)  \n",
       "2                                     (nf_local_var)  \n",
       "3  (__name__, __doc__, __package__, __loader__, _...  "
      ]
     },
     "execution_count": 3,
     "metadata": {},
     "output_type": "execute_result"
    }
   ],
   "source": [
    "contexts"
   ]
  },
  {
   "cell_type": "code",
   "execution_count": 4,
   "metadata": {},
   "outputs": [],
   "source": [
    "assert 'a_local_var' in contexts[0].locals.keys()\n",
    "assert 'pf_local_var' in contexts[1].locals.keys()\n",
    "assert 'nf_local_var' in contexts[2].locals.keys()\n",
    "assert 'a_global_var' in contexts[0].globals.keys()\n",
    "assert 'a_global_var' in contexts[1].globals.keys()\n",
    "assert 'a_global_var' in contexts[2].globals.keys()"
   ]
  },
  {
   "cell_type": "markdown",
   "metadata": {},
   "source": [
    "## compare w/ debugger decorator"
   ]
  },
  {
   "cell_type": "code",
   "execution_count": 5,
   "metadata": {},
   "outputs": [],
   "source": [
    "try:\n",
    "    conftest.failing_test()\n",
    "except IndexError as ie:\n",
    "    contexts = jpdb.post_mortem(ie.__traceback__)"
   ]
  },
  {
   "cell_type": "code",
   "execution_count": 6,
   "metadata": {},
   "outputs": [
    {
     "data": {
      "text/html": [
       "<div>\n",
       "<style scoped>\n",
       "    .dataframe tbody tr th:only-of-type {\n",
       "        vertical-align: middle;\n",
       "    }\n",
       "\n",
       "    .dataframe tbody tr th {\n",
       "        vertical-align: top;\n",
       "    }\n",
       "\n",
       "    .dataframe thead th {\n",
       "        text-align: right;\n",
       "    }\n",
       "</style>\n",
       "<table border=\"1\" class=\"dataframe\">\n",
       "  <thead>\n",
       "    <tr style=\"text-align: right;\">\n",
       "      <th></th>\n",
       "      <th>file</th>\n",
       "      <th>line</th>\n",
       "      <th>calling</th>\n",
       "      <th>locals</th>\n",
       "    </tr>\n",
       "  </thead>\n",
       "  <tbody>\n",
       "    <tr>\n",
       "      <th>0</th>\n",
       "      <td>/home/dan/Documents/jupydebug/tests/conftest.py</td>\n",
       "      <td>12</td>\n",
       "      <td>failing_test</td>\n",
       "      <td>(a_local_var, x)</td>\n",
       "    </tr>\n",
       "    <tr>\n",
       "      <th>1</th>\n",
       "      <td>&lt;ipython-input-5-d9a01ba2ca7c&gt;</td>\n",
       "      <td>4</td>\n",
       "      <td>&lt;module&gt;</td>\n",
       "      <td>(__name__, __doc__, __package__, __loader__, _...</td>\n",
       "    </tr>\n",
       "  </tbody>\n",
       "</table>\n",
       "</div>"
      ],
      "text/plain": [
       "                                              file  line       calling  \\\n",
       "0  /home/dan/Documents/jupydebug/tests/conftest.py    12  failing_test   \n",
       "1                   <ipython-input-5-d9a01ba2ca7c>     4      <module>   \n",
       "\n",
       "                                              locals  \n",
       "0                                   (a_local_var, x)  \n",
       "1  (__name__, __doc__, __package__, __loader__, _...  "
      ]
     },
     "execution_count": 6,
     "metadata": {},
     "output_type": "execute_result"
    }
   ],
   "source": [
    "contexts"
   ]
  },
  {
   "cell_type": "code",
   "execution_count": 7,
   "metadata": {},
   "outputs": [
    {
     "name": "stderr",
     "output_type": "stream",
     "text": [
      "/home/dan/Documents/jupydebug/jupydebug/__init__.py:106: UserWarning: \n",
      "-*-*-*-*-*-*-*-*-*-*-*-*-*-*-*\n",
      "debugger caught exception @ Context for /home/dan/Documents/jupydebug/tests/conftest.py calling\n",
      "\tfailing_test @ line 12\n",
      "-*-*-*-*-*-*-*-*-*-*-*-*-*-*-*\n",
      "\n",
      "  '\\n' + '-*' * 15 + '\\n')\n"
     ]
    },
    {
     "data": {
      "text/plain": [
       "<jupydebug.Debugger at 0x7fabf34b80d0>"
      ]
     },
     "execution_count": 7,
     "metadata": {},
     "output_type": "execute_result"
    }
   ],
   "source": [
    "debugger = jpdb.Debugger(conftest.failing_test)\n",
    "debugger()"
   ]
  },
  {
   "cell_type": "code",
   "execution_count": 8,
   "metadata": {},
   "outputs": [
    {
     "data": {
      "text/html": [
       "<div>\n",
       "<style scoped>\n",
       "    .dataframe tbody tr th:only-of-type {\n",
       "        vertical-align: middle;\n",
       "    }\n",
       "\n",
       "    .dataframe tbody tr th {\n",
       "        vertical-align: top;\n",
       "    }\n",
       "\n",
       "    .dataframe thead th {\n",
       "        text-align: right;\n",
       "    }\n",
       "</style>\n",
       "<table border=\"1\" class=\"dataframe\">\n",
       "  <thead>\n",
       "    <tr style=\"text-align: right;\">\n",
       "      <th></th>\n",
       "      <th>file</th>\n",
       "      <th>line</th>\n",
       "      <th>calling</th>\n",
       "      <th>locals</th>\n",
       "    </tr>\n",
       "  </thead>\n",
       "  <tbody>\n",
       "    <tr>\n",
       "      <th>0</th>\n",
       "      <td>/home/dan/Documents/jupydebug/tests/conftest.py</td>\n",
       "      <td>12</td>\n",
       "      <td>failing_test</td>\n",
       "      <td>(a_local_var, x)</td>\n",
       "    </tr>\n",
       "    <tr>\n",
       "      <th>1</th>\n",
       "      <td>/home/dan/Documents/jupydebug/jupydebug/__init...</td>\n",
       "      <td>107</td>\n",
       "      <td>__call__</td>\n",
       "      <td>(self, args, kwargs)</td>\n",
       "    </tr>\n",
       "  </tbody>\n",
       "</table>\n",
       "</div>"
      ],
      "text/plain": [
       "                                                file  line       calling  \\\n",
       "0    /home/dan/Documents/jupydebug/tests/conftest.py    12  failing_test   \n",
       "1  /home/dan/Documents/jupydebug/jupydebug/__init...   107      __call__   \n",
       "\n",
       "                 locals  \n",
       "0      (a_local_var, x)  \n",
       "1  (self, args, kwargs)  "
      ]
     },
     "execution_count": 8,
     "metadata": {},
     "output_type": "execute_result"
    }
   ],
   "source": [
    "debugger.contexts"
   ]
  },
  {
   "cell_type": "code",
   "execution_count": 9,
   "metadata": {},
   "outputs": [],
   "source": [
    "assert 'a_global_var' in debugger.contexts[0].globals.keys()"
   ]
  },
  {
   "cell_type": "code",
   "execution_count": 10,
   "metadata": {},
   "outputs": [],
   "source": [
    "assert 'a_local_var' in debugger.contexts[0].locals.keys()"
   ]
  }
 ],
 "metadata": {
  "kernelspec": {
   "display_name": "Python [conda env:jupydebug]",
   "language": "python",
   "name": "conda-env-jupydebug-py"
  },
  "language_info": {
   "codemirror_mode": {
    "name": "ipython",
    "version": 3
   },
   "file_extension": ".py",
   "mimetype": "text/x-python",
   "name": "python",
   "nbconvert_exporter": "python",
   "pygments_lexer": "ipython3",
   "version": "3.7.9"
  }
 },
 "nbformat": 4,
 "nbformat_minor": 4
}
