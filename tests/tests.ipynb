{
 "cells": [
  {
   "cell_type": "code",
   "execution_count": 1,
   "metadata": {},
   "outputs": [],
   "source": [
    "import context\n",
    "import jupydebug as jpdb\n",
    "import fixtures"
   ]
  },
  {
   "cell_type": "code",
   "execution_count": 2,
   "metadata": {},
   "outputs": [
    {
     "name": "stdout",
     "output_type": "stream",
     "text": [
      "\n"
     ]
    },
    {
     "name": "stderr",
     "output_type": "stream",
     "text": [
      "/home/dan/Documents/jupydebug/jupydebug/__init__.py:26: UserWarning: \n",
      "-*-*-*-*-*-*-*-*-*-*-*-*-*-*-*\n",
      "debugger caught exception @ failing_test\n",
      "-*-*-*-*-*-*-*-*-*-*-*-*-*-*-*\n",
      "\n",
      "  '\\n' + '-*' * 15 + '\\n'))\n"
     ]
    },
    {
     "ename": "IndexError",
     "evalue": "range object index out of range",
     "output_type": "error",
     "traceback": [
      "\u001b[0;31m---------------------------------------------------------------------------\u001b[0m",
      "\u001b[0;31mIndexError\u001b[0m                                Traceback (most recent call last)",
      "\u001b[0;32m<ipython-input-2-4893fc5cb544>\u001b[0m in \u001b[0;36m<module>\u001b[0;34m()\u001b[0m\n\u001b[1;32m      1\u001b[0m \u001b[0mdebugger\u001b[0m \u001b[0;34m=\u001b[0m \u001b[0mjpdb\u001b[0m\u001b[0;34m.\u001b[0m\u001b[0mDebugger\u001b[0m\u001b[0;34m(\u001b[0m\u001b[0mfixtures\u001b[0m\u001b[0;34m.\u001b[0m\u001b[0mfailing_test\u001b[0m\u001b[0;34m)\u001b[0m\u001b[0;34m\u001b[0m\u001b[0;34m\u001b[0m\u001b[0m\n\u001b[0;32m----> 2\u001b[0;31m \u001b[0mdebugger\u001b[0m\u001b[0;34m(\u001b[0m\u001b[0;34m)\u001b[0m\u001b[0;34m\u001b[0m\u001b[0;34m\u001b[0m\u001b[0m\n\u001b[0m",
      "\u001b[0;32m/home/dan/Documents/jupydebug/jupydebug/__init__.py\u001b[0m in \u001b[0;36m__call__\u001b[0;34m(self, *args, **kwargs)\u001b[0m\n\u001b[1;32m     26\u001b[0m                 '\\n' + '-*' * 15 + '\\n'))\n\u001b[1;32m     27\u001b[0m             \u001b[0mprint\u001b[0m\u001b[0;34m(\u001b[0m\u001b[0;34m''\u001b[0m\u001b[0;34m)\u001b[0m\u001b[0;34m\u001b[0m\u001b[0;34m\u001b[0m\u001b[0m\n\u001b[0;32m---> 28\u001b[0;31m             \u001b[0;32mraise\u001b[0m \u001b[0me\u001b[0m\u001b[0;34m\u001b[0m\u001b[0;34m\u001b[0m\u001b[0m\n\u001b[0m\u001b[1;32m     29\u001b[0m \u001b[0;34m\u001b[0m\u001b[0m\n\u001b[1;32m     30\u001b[0m \u001b[0;34m\u001b[0m\u001b[0m\n",
      "\u001b[0;32m/home/dan/Documents/jupydebug/jupydebug/__init__.py\u001b[0m in \u001b[0;36m__call__\u001b[0;34m(self, *args, **kwargs)\u001b[0m\n\u001b[1;32m     16\u001b[0m     \u001b[0;32mdef\u001b[0m \u001b[0m__call__\u001b[0m\u001b[0;34m(\u001b[0m\u001b[0mself\u001b[0m\u001b[0;34m,\u001b[0m \u001b[0;34m*\u001b[0m\u001b[0margs\u001b[0m\u001b[0;34m,\u001b[0m \u001b[0;34m**\u001b[0m\u001b[0mkwargs\u001b[0m\u001b[0;34m)\u001b[0m\u001b[0;34m:\u001b[0m\u001b[0;34m\u001b[0m\u001b[0;34m\u001b[0m\u001b[0m\n\u001b[1;32m     17\u001b[0m         \u001b[0;32mtry\u001b[0m\u001b[0;34m:\u001b[0m\u001b[0;34m\u001b[0m\u001b[0;34m\u001b[0m\u001b[0m\n\u001b[0;32m---> 18\u001b[0;31m             \u001b[0;32mreturn\u001b[0m \u001b[0mself\u001b[0m\u001b[0;34m.\u001b[0m\u001b[0m_func\u001b[0m\u001b[0;34m(\u001b[0m\u001b[0;34m*\u001b[0m\u001b[0margs\u001b[0m\u001b[0;34m,\u001b[0m \u001b[0;34m**\u001b[0m\u001b[0mkwargs\u001b[0m\u001b[0;34m)\u001b[0m\u001b[0;34m\u001b[0m\u001b[0;34m\u001b[0m\u001b[0m\n\u001b[0m\u001b[1;32m     19\u001b[0m \u001b[0;34m\u001b[0m\u001b[0m\n\u001b[1;32m     20\u001b[0m         \u001b[0;32mexcept\u001b[0m \u001b[0mException\u001b[0m \u001b[0;32mas\u001b[0m \u001b[0me\u001b[0m\u001b[0;34m:\u001b[0m\u001b[0;34m\u001b[0m\u001b[0;34m\u001b[0m\u001b[0m\n",
      "\u001b[0;32m/home/dan/Documents/jupydebug/tests/fixtures.py\u001b[0m in \u001b[0;36mfailing_test\u001b[0;34m()\u001b[0m\n\u001b[1;32m      9\u001b[0m     \u001b[0ma_local_var\u001b[0m \u001b[0;34m=\u001b[0m \u001b[0;34m\"failing_test's local var\"\u001b[0m\u001b[0;34m\u001b[0m\u001b[0;34m\u001b[0m\u001b[0m\n\u001b[1;32m     10\u001b[0m     \u001b[0mx\u001b[0m \u001b[0;34m=\u001b[0m \u001b[0mrange\u001b[0m\u001b[0;34m(\u001b[0m\u001b[0;36m3\u001b[0m\u001b[0;34m)\u001b[0m\u001b[0;34m\u001b[0m\u001b[0;34m\u001b[0m\u001b[0m\n\u001b[0;32m---> 11\u001b[0;31m     \u001b[0my\u001b[0m \u001b[0;34m=\u001b[0m \u001b[0mx\u001b[0m\u001b[0;34m[\u001b[0m\u001b[0;36m3\u001b[0m\u001b[0;34m]\u001b[0m  \u001b[0;31m# this will raise an exception\u001b[0m\u001b[0;34m\u001b[0m\u001b[0;34m\u001b[0m\u001b[0m\n\u001b[0m\u001b[1;32m     12\u001b[0m     \u001b[0;32mreturn\u001b[0m \u001b[0my\u001b[0m\u001b[0;34m\u001b[0m\u001b[0;34m\u001b[0m\u001b[0m\n\u001b[1;32m     13\u001b[0m \u001b[0;34m\u001b[0m\u001b[0m\n",
      "\u001b[0;31mIndexError\u001b[0m: range object index out of range"
     ]
    }
   ],
   "source": [
    "debugger = jpdb.Debugger(fixtures.failing_test)\n",
    "debugger()"
   ]
  },
  {
   "cell_type": "code",
   "execution_count": 8,
   "metadata": {},
   "outputs": [],
   "source": [
    "assert 'a_global_var' in debugger.frames[-1].globals.keys()"
   ]
  },
  {
   "cell_type": "code",
   "execution_count": 9,
   "metadata": {},
   "outputs": [],
   "source": [
    "assert 'a_local_var' in debugger.frames[-1].locals.keys()"
   ]
  },
  {
   "cell_type": "code",
   "execution_count": 11,
   "metadata": {},
   "outputs": [],
   "source": [
    "frame = fixtures.get_frame()"
   ]
  },
  {
   "cell_type": "code",
   "execution_count": 12,
   "metadata": {},
   "outputs": [
    {
     "data": {
      "text/plain": [
       "{'a_local_var': 'a_local_var', 'sys': <module 'sys' (built-in)>}"
      ]
     },
     "execution_count": 12,
     "metadata": {},
     "output_type": "execute_result"
    }
   ],
   "source": [
    "frame.f_locals"
   ]
  },
  {
   "cell_type": "code",
   "execution_count": 13,
   "metadata": {
    "collapsed": true,
    "jupyter": {
     "outputs_hidden": true
    }
   },
   "outputs": [
    {
     "data": {
      "text/plain": [
       "{'__name__': '__main__',\n",
       " '__doc__': 'Automatically created module for IPython interactive environment',\n",
       " '__package__': None,\n",
       " '__loader__': None,\n",
       " '__spec__': None,\n",
       " '__builtin__': <module 'builtins' (built-in)>,\n",
       " '__builtins__': <module 'builtins' (built-in)>,\n",
       " '_ih': ['',\n",
       "  'import context\\nimport jupydebug as jpdb\\nimport fixtures',\n",
       "  'debugger = jpdb.Debugger(fixtures.failing_test)\\ndebugger()',\n",
       "  \"assert 'a_global_var' in debugger.globals.keys()\",\n",
       "  'debugger.frames[-1].locals',\n",
       "  \"assert 'a_global_var' in debugger.frames[-1].globals.keys()\",\n",
       "  'debugger.frames[-1].locals.keys()',\n",
       "  \"assert 'a_local_var' in debugger.frames[-1].locals.keys()\",\n",
       "  \"assert 'a_global_var' in debugger.frames[-1].globals.keys()\",\n",
       "  \"assert 'a_local_var' in debugger.frames[-1].locals.keys()\",\n",
       "  'tb_frame = debugger.frames[-1]._tb_frame',\n",
       "  'frame = fixtures.get_frame()',\n",
       "  'frame.f_locals',\n",
       "  'frame.f_back.f_locals'],\n",
       " '_oh': {4: {'a_local_var': \"failing_test's local var\", 'x': range(0, 3)},\n",
       "  6: dict_keys(['a_local_var', 'x']),\n",
       "  12: {'a_local_var': 'a_local_var', 'sys': <module 'sys' (built-in)>}},\n",
       " '_dh': ['/home/dan/Documents/jupydebug/tests'],\n",
       " '_sh': <module 'IPython.core.shadowns' from '/home/dan/miniconda3/envs/jupydebug/lib/python3.7/site-packages/IPython/core/shadowns.py'>,\n",
       " 'In': ['',\n",
       "  'import context\\nimport jupydebug as jpdb\\nimport fixtures',\n",
       "  'debugger = jpdb.Debugger(fixtures.failing_test)\\ndebugger()',\n",
       "  \"assert 'a_global_var' in debugger.globals.keys()\",\n",
       "  'debugger.frames[-1].locals',\n",
       "  \"assert 'a_global_var' in debugger.frames[-1].globals.keys()\",\n",
       "  'debugger.frames[-1].locals.keys()',\n",
       "  \"assert 'a_local_var' in debugger.frames[-1].locals.keys()\",\n",
       "  \"assert 'a_global_var' in debugger.frames[-1].globals.keys()\",\n",
       "  \"assert 'a_local_var' in debugger.frames[-1].locals.keys()\",\n",
       "  'tb_frame = debugger.frames[-1]._tb_frame',\n",
       "  'frame = fixtures.get_frame()',\n",
       "  'frame.f_locals',\n",
       "  'frame.f_back.f_locals'],\n",
       " 'Out': {4: {'a_local_var': \"failing_test's local var\", 'x': range(0, 3)},\n",
       "  6: dict_keys(['a_local_var', 'x']),\n",
       "  12: {'a_local_var': 'a_local_var', 'sys': <module 'sys' (built-in)>}},\n",
       " 'get_ipython': <bound method InteractiveShell.get_ipython of <ipykernel.zmqshell.ZMQInteractiveShell object at 0x7f007d369150>>,\n",
       " 'exit': <IPython.core.autocall.ZMQExitAutocall at 0x7f007d361c10>,\n",
       " 'quit': <IPython.core.autocall.ZMQExitAutocall at 0x7f007d361c10>,\n",
       " '_': {'a_local_var': 'a_local_var', 'sys': <module 'sys' (built-in)>},\n",
       " '__': dict_keys(['a_local_var', 'x']),\n",
       " '___': {'a_local_var': \"failing_test's local var\", 'x': range(0, 3)},\n",
       " 'sys': <module 'sys' (built-in)>,\n",
       " '_i': 'frame.f_locals',\n",
       " '_ii': 'frame = fixtures.get_frame()',\n",
       " '_iii': 'tb_frame = debugger.frames[-1]._tb_frame',\n",
       " '_i1': 'import context\\nimport jupydebug as jpdb\\nimport fixtures',\n",
       " 'context': <module 'context' from '/home/dan/Documents/jupydebug/tests/context.py'>,\n",
       " 'jpdb': <module 'jupydebug' from '/home/dan/Documents/jupydebug/jupydebug/__init__.py'>,\n",
       " 'fixtures': <module 'fixtures' from '/home/dan/Documents/jupydebug/tests/fixtures.py'>,\n",
       " '_i2': 'debugger = jpdb.Debugger(fixtures.failing_test)\\ndebugger()',\n",
       " 'debugger': <jupydebug.Debugger at 0x7f007c3437d0>,\n",
       " '_i3': \"assert 'a_global_var' in debugger.globals.keys()\",\n",
       " '_i4': 'debugger.frames[-1].locals',\n",
       " '_4': {'a_local_var': \"failing_test's local var\", 'x': range(0, 3)},\n",
       " '_i5': \"assert 'a_global_var' in debugger.frames[-1].globals.keys()\",\n",
       " '_i6': 'debugger.frames[-1].locals.keys()',\n",
       " '_6': dict_keys(['a_local_var', 'x']),\n",
       " '_i7': \"assert 'a_local_var' in debugger.frames[-1].locals.keys()\",\n",
       " '_i8': \"assert 'a_global_var' in debugger.frames[-1].globals.keys()\",\n",
       " '_i9': \"assert 'a_local_var' in debugger.frames[-1].locals.keys()\",\n",
       " '_i10': 'tb_frame = debugger.frames[-1]._tb_frame',\n",
       " 'tb_frame': <frame at 0x7f0074edf5f0, file '/home/dan/Documents/jupydebug/tests/fixtures.py', line 11, code failing_test>,\n",
       " '_i11': 'frame = fixtures.get_frame()',\n",
       " 'frame': <frame at 0x7f0074e76410, file '/home/dan/Documents/jupydebug/tests/fixtures.py', line 35, code get_frame>,\n",
       " '_i12': 'frame.f_locals',\n",
       " '_12': {'a_local_var': 'a_local_var', 'sys': <module 'sys' (built-in)>},\n",
       " '_i13': 'frame.f_back.f_locals'}"
      ]
     },
     "execution_count": 13,
     "metadata": {},
     "output_type": "execute_result"
    }
   ],
   "source": [
    "frame.f_back.f_locals"
   ]
  },
  {
   "cell_type": "code",
   "execution_count": 18,
   "metadata": {},
   "outputs": [
    {
     "data": {
      "text/plain": [
       "'/home/dan/miniconda3/envs/jupydebug/lib/python3.7/site-packages/IPython/core/interactiveshell.py'"
      ]
     },
     "execution_count": 18,
     "metadata": {},
     "output_type": "execute_result"
    }
   ],
   "source": [
    "frame.f_back.f_back.f_code.co_filename"
   ]
  },
  {
   "cell_type": "code",
   "execution_count": 23,
   "metadata": {},
   "outputs": [],
   "source": [
    "frame.f_back.f_back.f_back.f_back.f_back.f_back.f_back"
   ]
  },
  {
   "cell_type": "code",
   "execution_count": null,
   "metadata": {},
   "outputs": [],
   "source": []
  }
 ],
 "metadata": {
  "kernelspec": {
   "display_name": "Python [conda env:jupydebug]",
   "language": "python",
   "name": "conda-env-jupydebug-py"
  },
  "language_info": {
   "codemirror_mode": {
    "name": "ipython",
    "version": 3
   },
   "file_extension": ".py",
   "mimetype": "text/x-python",
   "name": "python",
   "nbconvert_exporter": "python",
   "pygments_lexer": "ipython3",
   "version": "3.7.9"
  }
 },
 "nbformat": 4,
 "nbformat_minor": 4
}
